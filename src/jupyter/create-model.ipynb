{
 "cells": [
  {
   "cell_type": "code",
   "execution_count": null,
   "metadata": {},
   "outputs": [],
   "source": [
    "# Import libraries\n",
    "import os\n",
    "import pickle\n",
    "import face_recognition"
   ]
  },
  {
   "cell_type": "code",
   "execution_count": null,
   "metadata": {},
   "outputs": [],
   "source": [
    "# PATH dataset\n",
    "path = r'/dataset'"
   ]
  },
  {
   "cell_type": "code",
   "execution_count": null,
   "metadata": {},
   "outputs": [],
   "source": [
    "# Create lists\n",
    "known_encodings = []\n",
    "known_names = []\n",
    "\n",
    "for file in os.listdir(path):\n",
    "    known_names.append(file)\n",
    "    for img in os.walk(f'{path}\\{file}'):\n",
    "        img_path = face_recognition.load_image_file(fr'{img[0]}\\{img[2][0]}')\n",
    "        img_enc = face_recognition.face_encodings(img_path)[0]\n",
    "        known_encodings.append(img_enc)\n",
    "\n",
    "\n",
    "data = pickle.load(open(r'scr/model/model.pkl', 'rb'))\n",
    "\n",
    "encodings = data['encodings']\n",
    "names = data['names']\n",
    "\n",
    "for file in os.listdir(path):\n",
    "    names.append(file)\n",
    "    for img in os.walk(f'{path}\\{file}'):\n",
    "        img_path = face_recognition.load_image_file(fr'{img[0]}\\{img[2][0]}')\n",
    "        img_enc = face_recognition.face_encodings(img_path)[0]\n",
    "        encodings.append(img_enc)\n",
    "\n",
    "data = {\"encodings\": encodings, \"names\": names}\n",
    "with open('model.pkl' , 'a') as fp:\n",
    "    pickle.dump(data, fp)"
   ]
  },
  {
   "cell_type": "code",
   "execution_count": null,
   "metadata": {},
   "outputs": [],
   "source": [
    "# Save model\n",
    "data = {\"encodings\": known_encodings, \"names\": known_names}\n",
    "with open('model.pkl' , 'wb') as fp:\n",
    "    pickle.dump(data, fp)"
   ]
  }
 ],
 "metadata": {
  "kernelspec": {
   "display_name": "Python 3",
   "language": "python",
   "name": "python3"
  },
  "language_info": {
   "codemirror_mode": {
    "name": "ipython",
    "version": 3
   },
   "file_extension": ".py",
   "mimetype": "text/x-python",
   "name": "python",
   "nbconvert_exporter": "python",
   "pygments_lexer": "ipython3",
   "version": "3.10.1"
  }
 },
 "nbformat": 4,
 "nbformat_minor": 2
}
